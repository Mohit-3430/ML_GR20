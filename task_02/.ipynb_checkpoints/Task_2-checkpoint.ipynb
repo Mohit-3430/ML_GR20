{
 "cells": [
  {
   "cell_type": "markdown",
   "id": "ad2edc95-7c6c-4f49-aeca-18a03b2d7e20",
   "metadata": {
    "tags": []
   },
   "source": [
    "# Various Data Preprocessing techniques\n",
    "\n",
    "[Source](https://data-flair.training/blogs/python-ml-data-preprocessing/)"
   ]
  },
  {
   "cell_type": "code",
   "execution_count": 1,
   "id": "e05bb84c",
   "metadata": {
    "tags": []
   },
   "outputs": [],
   "source": [
    "import pandas as pd\n",
    "import numpy as np"
   ]
  },
  {
   "cell_type": "code",
   "execution_count": 2,
   "id": "7db26e93",
   "metadata": {
    "tags": []
   },
   "outputs": [],
   "source": [
    "from sklearn.datasets import load_wine\n",
    "\n",
    "df = load_wine()"
   ]
  },
  {
   "cell_type": "code",
   "execution_count": 3,
   "id": "d740673e",
   "metadata": {
    "tags": []
   },
   "outputs": [
    {
     "name": "stdout",
     "output_type": "stream",
     "text": [
      "['alcohol', 'malic_acid', 'ash', 'alcalinity_of_ash', 'magnesium', 'total_phenols', 'flavanoids', 'nonflavanoid_phenols', 'proanthocyanins', 'color_intensity', 'hue', 'od280/od315_of_diluted_wines', 'proline']\n",
      "['class_0' 'class_1' 'class_2']\n"
     ]
    }
   ],
   "source": [
    "print(df.feature_names)\n",
    "print(df.target_names)"
   ]
  },
  {
   "cell_type": "code",
   "execution_count": 4,
   "id": "778c0c61-6bbf-497c-929c-8503cd2f3ab0",
   "metadata": {
    "tags": []
   },
   "outputs": [
    {
     "name": "stdout",
     "output_type": "stream",
     "text": [
      ".. _wine_dataset:\n",
      "\n",
      "Wine recognition dataset\n",
      "------------------------\n",
      "\n",
      "**Data Set Characteristics:**\n",
      "\n",
      "    :Number of Instances: 178\n",
      "    :Number of Attributes: 13 numeric, predictive attributes and the class\n",
      "    :Attribute Information:\n",
      " \t\t- Alcohol\n",
      " \t\t- Malic acid\n",
      " \t\t- Ash\n",
      "\t\t- Alcalinity of ash  \n",
      " \t\t- Magnesium\n",
      "\t\t- Total phenols\n",
      " \t\t- Flavanoids\n",
      " \t\t- Nonflavanoid phenols\n",
      " \t\t- Proanthocyanins\n",
      "\t\t- Color intensity\n",
      " \t\t- Hue\n",
      " \t\t- OD280/OD315 of diluted wines\n",
      " \t\t- Proline\n",
      "\n",
      "    - class:\n",
      "            - class_0\n",
      "            - class_1\n",
      "            - class_2\n",
      "\t\t\n",
      "    :Summary Statistics:\n",
      "    \n",
      "    ============================= ==== ===== ======= =====\n",
      "                                   Min   Max   Mean     SD\n",
      "    ============================= ==== ===== ======= =====\n",
      "    Alcohol:                      11.0  14.8    13.0   0.8\n",
      "    Malic Acid:                   0.74  5.80    2.34  1.12\n",
      "    Ash:                          1.36  3.23    2.36  0.27\n",
      "    Alcalinity of Ash:            10.6  30.0    19.5   3.3\n",
      "    Magnesium:                    70.0 162.0    99.7  14.3\n",
      "    Total Phenols:                0.98  3.88    2.29  0.63\n",
      "    Flavanoids:                   0.34  5.08    2.03  1.00\n",
      "    Nonflavanoid Phenols:         0.13  0.66    0.36  0.12\n",
      "    Proanthocyanins:              0.41  3.58    1.59  0.57\n",
      "    Colour Intensity:              1.3  13.0     5.1   2.3\n",
      "    Hue:                          0.48  1.71    0.96  0.23\n",
      "    OD280/OD315 of diluted wines: 1.27  4.00    2.61  0.71\n",
      "    Proline:                       278  1680     746   315\n",
      "    ============================= ==== ===== ======= =====\n",
      "\n",
      "    :Missing Attribute Values: None\n",
      "    :Class Distribution: class_0 (59), class_1 (71), class_2 (48)\n",
      "    :Creator: R.A. Fisher\n",
      "    :Donor: Michael Marshall (MARSHALL%PLU@io.arc.nasa.gov)\n",
      "    :Date: July, 1988\n",
      "\n",
      "This is a copy of UCI ML Wine recognition datasets.\n",
      "https://archive.ics.uci.edu/ml/machine-learning-databases/wine/wine.data\n",
      "\n",
      "The data is the results of a chemical analysis of wines grown in the same\n",
      "region in Italy by three different cultivators. There are thirteen different\n",
      "measurements taken for different constituents found in the three types of\n",
      "wine.\n",
      "\n",
      "Original Owners: \n",
      "\n",
      "Forina, M. et al, PARVUS - \n",
      "An Extendible Package for Data Exploration, Classification and Correlation. \n",
      "Institute of Pharmaceutical and Food Analysis and Technologies,\n",
      "Via Brigata Salerno, 16147 Genoa, Italy.\n",
      "\n",
      "Citation:\n",
      "\n",
      "Lichman, M. (2013). UCI Machine Learning Repository\n",
      "[https://archive.ics.uci.edu/ml]. Irvine, CA: University of California,\n",
      "School of Information and Computer Science. \n",
      "\n",
      ".. topic:: References\n",
      "\n",
      "  (1) S. Aeberhard, D. Coomans and O. de Vel, \n",
      "  Comparison of Classifiers in High Dimensional Settings, \n",
      "  Tech. Rep. no. 92-02, (1992), Dept. of Computer Science and Dept. of  \n",
      "  Mathematics and Statistics, James Cook University of North Queensland. \n",
      "  (Also submitted to Technometrics). \n",
      "\n",
      "  The data was used with many others for comparing various \n",
      "  classifiers. The classes are separable, though only RDA \n",
      "  has achieved 100% correct classification. \n",
      "  (RDA : 100%, QDA 99.4%, LDA 98.9%, 1NN 96.1% (z-transformed data)) \n",
      "  (All results using the leave-one-out technique) \n",
      "\n",
      "  (2) S. Aeberhard, D. Coomans and O. de Vel, \n",
      "  \"THE CLASSIFICATION PERFORMANCE OF RDA\" \n",
      "  Tech. Rep. no. 92-01, (1992), Dept. of Computer Science and Dept. of \n",
      "  Mathematics and Statistics, James Cook University of North Queensland. \n",
      "  (Also submitted to Journal of Chemometrics).\n",
      "\n"
     ]
    }
   ],
   "source": [
    "print(df.DESCR)"
   ]
  },
  {
   "cell_type": "code",
   "execution_count": 5,
   "id": "8802ae1b",
   "metadata": {
    "tags": []
   },
   "outputs": [],
   "source": [
    "X = df.data\n",
    "y = df.target"
   ]
  },
  {
   "cell_type": "code",
   "execution_count": 6,
   "id": "c3215268",
   "metadata": {
    "tags": []
   },
   "outputs": [
    {
     "name": "stdout",
     "output_type": "stream",
     "text": [
      "(178, 13) (178,)\n"
     ]
    }
   ],
   "source": [
    "print(X.shape, y.shape)"
   ]
  },
  {
   "cell_type": "code",
   "execution_count": 40,
   "id": "fb4a91af-642d-4611-955e-7e28c21a61d5",
   "metadata": {
    "tags": []
   },
   "outputs": [
    {
     "name": "stdout",
     "output_type": "stream",
     "text": [
      "0.13 1680.0\n"
     ]
    }
   ],
   "source": [
    "print(X.min(), X.max())"
   ]
  },
  {
   "cell_type": "markdown",
   "id": "85b79848-62ce-4836-ac1a-a77cea93c5fc",
   "metadata": {},
   "source": [
    "# MinMaxScaler\n",
    "\n",
    "- Rescaling using MinMaxScaler\n",
    "\n",
    "**Decr:** Transform features by scaling each feature to a given range.\n",
    "\n",
    "This estimator scales and translates each feature individually such that it is in the given range on the training set, e.g. between zero and one.\n",
    "\n",
    "- `X_std = (X - X.min(axis=0)) / (X.max(axis=0) - X.min(axis=0))`\n",
    "- `X_scaled = X_std * (max - min) + min`"
   ]
  },
  {
   "cell_type": "code",
   "execution_count": 8,
   "id": "70808278",
   "metadata": {
    "tags": []
   },
   "outputs": [],
   "source": [
    "from sklearn.preprocessing import MinMaxScaler"
   ]
  },
  {
   "cell_type": "code",
   "execution_count": 31,
   "id": "2b4eb515",
   "metadata": {
    "tags": []
   },
   "outputs": [],
   "source": [
    "scaler = MinMaxScaler(feature_range = (0, 1))\n",
    "mmrescaledX = scaler.fit_transform(X)\n",
    "\n",
    "# above line is combo of:\n",
    "# rescaledX = scaler.fit(x)\n",
    "# rescaledX = scaler.transform(x)"
   ]
  },
  {
   "cell_type": "code",
   "execution_count": 10,
   "id": "7fe15c60",
   "metadata": {
    "tags": []
   },
   "outputs": [],
   "source": [
    "# for viewing only 3 decimals\n",
    "np.set_printoptions(precision=3)"
   ]
  },
  {
   "cell_type": "code",
   "execution_count": 32,
   "id": "9ddda14a",
   "metadata": {
    "tags": []
   },
   "outputs": [
    {
     "data": {
      "text/plain": [
       "array([[0.842, 0.192, 0.572, 0.258, 0.62 , 0.628, 0.574, 0.283, 0.593,\n",
       "        0.372, 0.455, 0.971, 0.561],\n",
       "       [0.571, 0.206, 0.417, 0.031, 0.326, 0.576, 0.511, 0.245, 0.274,\n",
       "        0.265, 0.463, 0.78 , 0.551],\n",
       "       [0.561, 0.32 , 0.701, 0.412, 0.337, 0.628, 0.612, 0.321, 0.757,\n",
       "        0.375, 0.447, 0.696, 0.647],\n",
       "       [0.879, 0.239, 0.61 , 0.32 , 0.467, 0.99 , 0.665, 0.208, 0.558,\n",
       "        0.556, 0.309, 0.799, 0.857],\n",
       "       [0.582, 0.366, 0.807, 0.536, 0.522, 0.628, 0.496, 0.491, 0.445,\n",
       "        0.259, 0.455, 0.608, 0.326]])"
      ]
     },
     "execution_count": 32,
     "metadata": {},
     "output_type": "execute_result"
    }
   ],
   "source": [
    "mmrescaledX[0:5, :]"
   ]
  },
  {
   "cell_type": "code",
   "execution_count": 39,
   "id": "7974d577-b9d1-4702-a85b-55b5c6b54399",
   "metadata": {
    "tags": []
   },
   "outputs": [
    {
     "name": "stdout",
     "output_type": "stream",
     "text": [
      "0.0 1.0\n"
     ]
    }
   ],
   "source": [
    "print(mmrescaledX.min(), mmrescaledX.max())"
   ]
  },
  {
   "cell_type": "markdown",
   "id": "1ec1f9e2",
   "metadata": {},
   "source": [
    "# StandardScaler\n",
    "\n",
    "**Decr**:\n",
    "With standardizing, we can take attributes with a Gaussian distribution and different means and standard deviations and transform them into a standard Gaussian distribution with a mean of 0 and a standard deviation of 1.\n",
    "\n",
    "`z = (x - u) / s`\n",
    "- where u is the mean of the training samples or zero if with_mean=False, and s is the standard deviation of the training samples or one if with_std=False."
   ]
  },
  {
   "cell_type": "code",
   "execution_count": 12,
   "id": "08e87f73",
   "metadata": {
    "tags": []
   },
   "outputs": [],
   "source": [
    "from sklearn.preprocessing import StandardScaler"
   ]
  },
  {
   "cell_type": "code",
   "execution_count": 34,
   "id": "17a1b0d1",
   "metadata": {
    "tags": []
   },
   "outputs": [],
   "source": [
    "scaler = StandardScaler()\n",
    "ss_scaled = scaler.fit_transform(X)\n",
    "\n",
    "# above line is combo of:\n",
    "# rescaled = scaler.fit(x)\n",
    "# rescaled = scaler.transform(x)"
   ]
  },
  {
   "cell_type": "code",
   "execution_count": 36,
   "id": "abee1740",
   "metadata": {
    "tags": []
   },
   "outputs": [
    {
     "data": {
      "text/plain": [
       "array([[ 1.519, -0.562,  0.232, -1.17 ,  1.914,  0.809,  1.035, -0.66 ,\n",
       "         1.225,  0.252,  0.362,  1.848,  1.013],\n",
       "       [ 0.246, -0.499, -0.828, -2.491,  0.018,  0.569,  0.734, -0.821,\n",
       "        -0.545, -0.293,  0.406,  1.113,  0.965],\n",
       "       [ 0.197,  0.021,  1.109, -0.269,  0.088,  0.809,  1.216, -0.498,\n",
       "         2.136,  0.269,  0.318,  0.789,  1.395],\n",
       "       [ 1.692, -0.347,  0.488, -0.809,  0.931,  2.491,  1.467, -0.982,\n",
       "         1.032,  1.186, -0.428,  1.184,  2.335],\n",
       "       [ 0.296,  0.228,  1.84 ,  0.452,  1.282,  0.809,  0.663,  0.227,\n",
       "         0.401, -0.319,  0.362,  0.45 , -0.038]])"
      ]
     },
     "execution_count": 36,
     "metadata": {},
     "output_type": "execute_result"
    }
   ],
   "source": [
    "ss_scaled[0:5]"
   ]
  },
  {
   "cell_type": "code",
   "execution_count": 38,
   "id": "1b93054c-ef14-48a1-9471-06ed09764960",
   "metadata": {
    "tags": []
   },
   "outputs": [
    {
     "name": "stdout",
     "output_type": "stream",
     "text": [
      "-3.6791622340370145 4.371372139554767\n"
     ]
    }
   ],
   "source": [
    "print(ss_scaled.min(), ss_scaled.max())"
   ]
  },
  {
   "cell_type": "markdown",
   "id": "6a1ee442",
   "metadata": {},
   "source": [
    "# Normalizer\n",
    "\n",
    "- Normalize samples individually to unit norm."
   ]
  },
  {
   "cell_type": "code",
   "execution_count": 16,
   "id": "5764d54e",
   "metadata": {
    "tags": []
   },
   "outputs": [],
   "source": [
    "from sklearn.preprocessing import Normalizer"
   ]
  },
  {
   "cell_type": "code",
   "execution_count": 17,
   "id": "93891d1f",
   "metadata": {
    "tags": []
   },
   "outputs": [],
   "source": [
    "norm = Normalizer()\n",
    "normalizedX = norm.fit_transform(X)"
   ]
  },
  {
   "cell_type": "code",
   "execution_count": 44,
   "id": "29cb182f-4626-4750-8b05-ec6e18cdbdd9",
   "metadata": {
    "tags": []
   },
   "outputs": [
    {
     "data": {
      "text/plain": [
       "array([[1.326e-02, 1.594e-03, 2.265e-03, 1.454e-02, 1.184e-01, 2.610e-03,\n",
       "        2.852e-03, 2.610e-04, 2.135e-03, 5.257e-03, 9.694e-04, 3.654e-03,\n",
       "        9.927e-01],\n",
       "       [1.251e-02, 1.687e-03, 2.029e-03, 1.062e-02, 9.479e-02, 2.512e-03,\n",
       "        2.616e-03, 2.465e-04, 1.213e-03, 4.152e-03, 9.953e-04, 3.223e-03,\n",
       "        9.953e-01],\n",
       "       [1.106e-02, 1.984e-03, 2.245e-03, 1.564e-02, 8.491e-02, 2.354e-03,\n",
       "        2.724e-03, 2.522e-04, 2.362e-03, 4.775e-03, 8.659e-04, 2.665e-03,\n",
       "        9.962e-01],\n",
       "       [9.680e-03, 1.314e-03, 1.684e-03, 1.132e-02, 7.612e-02, 2.593e-03,\n",
       "        2.351e-03, 1.617e-04, 1.468e-03, 5.254e-03, 5.793e-04, 2.324e-03,\n",
       "        9.970e-01],\n",
       "       [1.777e-02, 3.477e-03, 3.853e-03, 2.819e-02, 1.584e-01, 3.759e-03,\n",
       "        3.611e-03, 5.236e-04, 2.443e-03, 5.800e-03, 1.396e-03, 3.934e-03,\n",
       "        9.868e-01]])"
      ]
     },
     "execution_count": 44,
     "metadata": {},
     "output_type": "execute_result"
    }
   ],
   "source": [
    "normalizedX[0:5]"
   ]
  },
  {
   "cell_type": "code",
   "execution_count": 45,
   "id": "b6f2cd2b-4eaf-4fd5-acca-f2f962c9c6b0",
   "metadata": {
    "tags": []
   },
   "outputs": [
    {
     "name": "stdout",
     "output_type": "stream",
     "text": [
      "0.00014484038599355936 0.9978349045602742\n"
     ]
    }
   ],
   "source": [
    "print(normalizedX.min(), normalizedX.max())"
   ]
  },
  {
   "cell_type": "markdown",
   "id": "e26ff104",
   "metadata": {},
   "source": [
    "# Binarizer\n",
    "\n",
    "Binarize data (set feature values to 0 or 1) according to a threshold.\n",
    "\n",
    "Values greater than the threshold map to 1, while values less than or equal to the threshold map to 0. With the default threshold of 0, only positive values map to 1.\n",
    "\n",
    "Binarization is a common operation on text count data where the analyst can decide to only consider the presence or absence of a feature rather than a quantified number of occurrences for instance."
   ]
  },
  {
   "cell_type": "code",
   "execution_count": 46,
   "id": "e356086a",
   "metadata": {
    "tags": []
   },
   "outputs": [],
   "source": [
    "from sklearn.preprocessing import Binarizer"
   ]
  },
  {
   "cell_type": "code",
   "execution_count": 47,
   "id": "16ea9ac4",
   "metadata": {},
   "outputs": [],
   "source": [
    "binarizer = Binarizer(threshold=0.0)\n",
    "binaryX = binarizer.fit_transform(X)"
   ]
  },
  {
   "cell_type": "code",
   "execution_count": 48,
   "id": "babddc6e-cb03-43ba-87aa-070f876dea22",
   "metadata": {
    "tags": []
   },
   "outputs": [
    {
     "data": {
      "text/plain": [
       "array([[1., 1., 1., 1., 1., 1., 1., 1., 1., 1., 1., 1., 1.],\n",
       "       [1., 1., 1., 1., 1., 1., 1., 1., 1., 1., 1., 1., 1.],\n",
       "       [1., 1., 1., 1., 1., 1., 1., 1., 1., 1., 1., 1., 1.],\n",
       "       [1., 1., 1., 1., 1., 1., 1., 1., 1., 1., 1., 1., 1.],\n",
       "       [1., 1., 1., 1., 1., 1., 1., 1., 1., 1., 1., 1., 1.]])"
      ]
     },
     "execution_count": 48,
     "metadata": {},
     "output_type": "execute_result"
    }
   ],
   "source": [
    "binaryX[0:5, :]"
   ]
  },
  {
   "cell_type": "markdown",
   "id": "dc186faf",
   "metadata": {},
   "source": [
    "# Scaling\n",
    "\n",
    "Standardize a dataset along any axis.\n",
    "\n",
    "Center to the mean and component wise scale to unit variance."
   ]
  },
  {
   "cell_type": "code",
   "execution_count": 22,
   "id": "4a0a323c",
   "metadata": {},
   "outputs": [],
   "source": [
    "from sklearn.preprocessing import scale"
   ]
  },
  {
   "cell_type": "code",
   "execution_count": 23,
   "id": "f6469330",
   "metadata": {},
   "outputs": [
    {
     "data": {
      "text/plain": [
       "array([ 7.841e-15,  2.445e-16, -4.059e-15, -7.110e-17, -2.495e-17,\n",
       "       -1.955e-16,  9.443e-16, -4.179e-16, -1.541e-15, -4.129e-16,\n",
       "        1.398e-15,  2.127e-15, -6.986e-17])"
      ]
     },
     "execution_count": 23,
     "metadata": {},
     "output_type": "execute_result"
    }
   ],
   "source": [
    "data_standardized = scale(X)\n",
    "data_standardized.mean(axis=0)"
   ]
  },
  {
   "cell_type": "markdown",
   "id": "b1254bc3",
   "metadata": {},
   "source": [
    "# Label Encoding\n",
    "\n",
    "Encode target labels with value between 0 and n_classes-1.\n",
    "\n",
    "This transformer should be used to encode target values, i.e. y, and not the input X."
   ]
  },
  {
   "cell_type": "code",
   "execution_count": 24,
   "id": "92509bb7",
   "metadata": {},
   "outputs": [],
   "source": [
    "from sklearn.preprocessing import LabelEncoder, OneHotEncoder"
   ]
  },
  {
   "cell_type": "code",
   "execution_count": 25,
   "id": "49da07c1",
   "metadata": {},
   "outputs": [],
   "source": [
    "data = np.array(['cold', 'cold', 'warm', 'cold', 'hot', 'hot', 'hot', 'warm', 'cold', 'warm', 'hot'])"
   ]
  },
  {
   "cell_type": "code",
   "execution_count": 26,
   "id": "79a50c0d",
   "metadata": {},
   "outputs": [],
   "source": [
    "label_encoder = LabelEncoder()\n",
    "integer_encoded = label_encoder.fit_transform(data)"
   ]
  },
  {
   "cell_type": "code",
   "execution_count": 27,
   "id": "6961a893",
   "metadata": {},
   "outputs": [
    {
     "data": {
      "text/plain": [
       "array([0, 0, 2, 0, 1, 1, 1, 2, 0, 2, 1])"
      ]
     },
     "execution_count": 27,
     "metadata": {},
     "output_type": "execute_result"
    }
   ],
   "source": [
    "integer_encoded"
   ]
  },
  {
   "cell_type": "code",
   "execution_count": 28,
   "id": "600809ef-c4e5-4931-a5e9-52d3c6cc4dc2",
   "metadata": {
    "tags": []
   },
   "outputs": [
    {
     "data": {
      "text/plain": [
       "array(['cold', 'cold', 'warm', 'cold', 'hot', 'hot', 'hot', 'warm',\n",
       "       'cold', 'warm', 'hot'], dtype='<U4')"
      ]
     },
     "execution_count": 28,
     "metadata": {},
     "output_type": "execute_result"
    }
   ],
   "source": [
    "label_encoder.inverse_transform(integer_encoded)"
   ]
  },
  {
   "cell_type": "markdown",
   "id": "03ab6332",
   "metadata": {},
   "source": [
    "# OneHotEncoding\n",
    "\n",
    "Encode categorical features as a one-hot numeric array.\n",
    "\n",
    "The input to this transformer should be an array-like of integers or strings, denoting the values taken on by categorical (discrete) features. The features are encoded using a one-hot (aka ‘one-of-K’ or ‘dummy’) encoding scheme. This creates a binary column for each category and returns a sparse matrix or dense array (depending on the sparse_output parameter)"
   ]
  },
  {
   "cell_type": "code",
   "execution_count": 29,
   "id": "41f008bb",
   "metadata": {},
   "outputs": [
    {
     "ename": "NameError",
     "evalue": "name 'interger_encoded' is not defined",
     "output_type": "error",
     "traceback": [
      "\u001b[0;31m---------------------------------------------------------------------------\u001b[0m",
      "\u001b[0;31mNameError\u001b[0m                                 Traceback (most recent call last)",
      "Cell \u001b[0;32mIn[29], line 2\u001b[0m\n\u001b[1;32m      1\u001b[0m ohe_encoder \u001b[38;5;241m=\u001b[39m OneHotEncoder(sparse_output\u001b[38;5;241m=\u001b[39m\u001b[38;5;28;01mFalse\u001b[39;00m) \u001b[38;5;66;03m# renamed sparse-> sparse_output in v1.2\u001b[39;00m\n\u001b[0;32m----> 2\u001b[0m vals_encoded \u001b[38;5;241m=\u001b[39m data\u001b[38;5;241m.\u001b[39mreshape(\u001b[38;5;28mlen\u001b[39m(\u001b[43minterger_encoded\u001b[49m),\u001b[38;5;241m1\u001b[39m)\n\u001b[1;32m      3\u001b[0m ohe_encoded \u001b[38;5;241m=\u001b[39m ohe_encoder\u001b[38;5;241m.\u001b[39mfit_transform(vals_encoded)\n",
      "\u001b[0;31mNameError\u001b[0m: name 'interger_encoded' is not defined"
     ]
    }
   ],
   "source": [
    "ohe_encoder = OneHotEncoder(sparse_output=False) # renamed sparse-> sparse_output in v1.2\n",
    "vals_encoded = data.reshape(len(interger_encoded),1)\n",
    "ohe_encoded = ohe_encoder.fit_transform(vals_encoded)"
   ]
  },
  {
   "cell_type": "code",
   "execution_count": null,
   "id": "a5690a3b",
   "metadata": {},
   "outputs": [],
   "source": [
    "print(ohe_encoded)"
   ]
  },
  {
   "cell_type": "markdown",
   "id": "43b931e7",
   "metadata": {},
   "source": [
    "- **inverse-transform** -> Transform back to original encoding."
   ]
  },
  {
   "cell_type": "code",
   "execution_count": null,
   "id": "0e839c7c",
   "metadata": {},
   "outputs": [],
   "source": [
    "inverted = ohe_encoder.inverse_transform(ohe_encoded)"
   ]
  },
  {
   "cell_type": "code",
   "execution_count": null,
   "id": "f9454484",
   "metadata": {},
   "outputs": [],
   "source": [
    "inverted"
   ]
  }
 ],
 "metadata": {
  "kernelspec": {
   "display_name": "Python 3 (ipykernel)",
   "language": "python",
   "name": "python3"
  },
  "language_info": {
   "codemirror_mode": {
    "name": "ipython",
    "version": 3
   },
   "file_extension": ".py",
   "mimetype": "text/x-python",
   "name": "python",
   "nbconvert_exporter": "python",
   "pygments_lexer": "ipython3",
   "version": "3.9.2"
  }
 },
 "nbformat": 4,
 "nbformat_minor": 5
}
